{
 "cells": [
  {
   "cell_type": "markdown",
   "id": "03ac16e8-a1ca-4d4c-a6d5-c4678b2c2ccf",
   "metadata": {},
   "source": [
    "#Data science tools and ecosystem"
   ]
  },
  {
   "cell_type": "markdown",
   "id": "bfa65ea7-084b-481c-b6f0-56e94e4fe886",
   "metadata": {},
   "source": [
    "In this notebook, Data Science Tools and Ecosystem are summarized.\n"
   ]
  },
  {
   "cell_type": "markdown",
   "id": "05f18941-7238-4d71-bd62-998cfd632f45",
   "metadata": {},
   "source": [
    "Some of the popular languages that Data Scientists use are:\n",
    "1. Python\n",
    "2. R\n",
    "3. SQL\n",
    "4. Julia\n"
   ]
  },
  {
   "cell_type": "markdown",
   "id": "e7b04432-379d-4909-92b5-a73ab73fc28e",
   "metadata": {},
   "source": [
    "Some of the commonly used libraries used by Data Scientists include:\n",
    "1. NumPy\n",
    "2. Pandas\n",
    "3. Scikit-learn\n",
    "4. Matplotlib\n"
   ]
  },
  {
   "cell_type": "markdown",
   "id": "3676568b-8597-4e1f-a335-79b185d97d81",
   "metadata": {},
   "source": [
    "| Data Science Tools       |\n",
    "|--------------------------|\n",
    "| Jupyter Notebook         |\n",
    "| VSCode                   |\n",
    "| RStudio                  |\n"
   ]
  },
  {
   "cell_type": "markdown",
   "id": "21ee30fc-8037-41b1-8e34-cf05f4aff240",
   "metadata": {},
   "source": [
    "### Below are a few examples of evaluating arithmetic expressions in Python.\n"
   ]
  },
  {
   "cell_type": "code",
   "execution_count": 2,
   "id": "75753e13-5185-47c4-9912-5352f0f09835",
   "metadata": {},
   "outputs": [
    {
     "data": {
      "text/plain": [
       "17"
      ]
     },
     "execution_count": 2,
     "metadata": {},
     "output_type": "execute_result"
    }
   ],
   "source": [
    "# This is a simple arithmetic expression to multiply then add integers.\n",
    "(3 * 4) + 5\n"
   ]
  },
  {
   "cell_type": "code",
   "execution_count": 3,
   "id": "66af3e24-61fe-4acf-9a2f-d6d7cfe7ee9d",
   "metadata": {},
   "outputs": [
    {
     "data": {
      "text/plain": [
       "3.3333333333333335"
      ]
     },
     "execution_count": 3,
     "metadata": {},
     "output_type": "execute_result"
    }
   ],
   "source": [
    "# This will convert 200 minutes to hours by dividing by 60.\n",
    "200 / 60\n"
   ]
  },
  {
   "cell_type": "markdown",
   "id": "6c6d0ba3-7362-4253-876e-e7fd34871e86",
   "metadata": {},
   "source": [
    "**Objectives:**\n",
    "- List popular languages for Data Science.\n",
    "- List common libraries used in Data Science.\n",
    "- Summarize the Data Science ecosystem.\n",
    "- Demonstrate basic arithmetic operations.\n"
   ]
  },
  {
   "cell_type": "markdown",
   "id": "e091891a-5222-4b62-8418-f2082d3f0845",
   "metadata": {},
   "source": [
    "## Author\n",
    "\n",
    "Rahi Bhand\n"
   ]
  }
 ],
 "metadata": {
  "kernelspec": {
   "display_name": "Python 3 (ipykernel)",
   "language": "python",
   "name": "python3"
  },
  "language_info": {
   "codemirror_mode": {
    "name": "ipython",
    "version": 3
   },
   "file_extension": ".py",
   "mimetype": "text/x-python",
   "name": "python",
   "nbconvert_exporter": "python",
   "pygments_lexer": "ipython3",
   "version": "3.12.8"
  }
 },
 "nbformat": 4,
 "nbformat_minor": 5
}
